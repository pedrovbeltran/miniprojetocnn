{
 "cells": [
  {
   "cell_type": "markdown",
   "metadata": {},
   "source": [
    "# Mini -projeto - CNN\n",
    "\n",
    "## Introdução\n",
    "\n",
    "Este diário é referente ao mini-projeto da disciplina de Redes Neurais onde uma RNC (Rede Neural Convolucional ou, do inglês *CNN* - *Convolutional Neural Network*) será usada para reconhecimento de dígitos manuscritos seguindo o roteiro proposto no capítulo 6 do livro [*Neural networks and deep learning*](http://neuralnetworksanddeeplearning.com/chap6.html) escrito por Michael Nielsen com algumas modificações que visam a objetividade do projeto e ainda devido à solicitação do prof da disciplina, será implementada uma técnica que o livro cita como *early stopping*, que consiste na parada automática do programa quando não há melhoramento significativo da acurácia do programa.\n",
    "\n",
    "Para essa técnica usaremos o conjunto de validação para trabalhar.\n",
    "\n",
    "**Equipe:**\n",
    "\n",
    "\n",
    "**Pedro Beltran** (@pedrovbeltran) e\n",
    "**Luana Silva** (@luana-leticia)"
   ]
  },
  {
   "cell_type": "markdown",
   "metadata": {},
   "source": [
    "Após realizadas as modificações, começaremos de maneira análoga ao primeiro mini-projeto estabelecendo um valor pequeno para o parâmetro *no improvement in* do algoritmo *early stopping*, tal como 5 épocas."
   ]
  },
  {
   "cell_type": "code",
   "execution_count": 1,
   "metadata": {},
   "outputs": [
    {
     "name": "stdout",
     "output_type": "stream",
     "text": [
      "Finished training network after 24 epochs.\n",
      "Best test accuracy of 97.66% obtained at iteration 114999\n",
      "Best validation accuracy of 97.80% obtained at iteration 94999\n"
     ]
    }
   ],
   "source": [
    "import network3\n",
    "from network3 import Network\n",
    "from network3 import ConvPoolLayer, FullyConnectedLayer, SoftmaxLayer\n",
    "training_data, validation_data, test_data = network3.load_data_shared()\n",
    "mini_batch_size = 10\n",
    "net = Network([\n",
    "        FullyConnectedLayer(n_in=784, n_out=100),\n",
    "        SoftmaxLayer(n_in=100, n_out=10)], mini_batch_size)\n",
    "test_accuracy,_ = net.SGD(training_data, 5, mini_batch_size, 0.1, \n",
    "                        validation_data, test_data, monitor_test=True)"
   ]
  },
  {
   "cell_type": "markdown",
   "metadata": {},
   "source": [
    "Para facilitar o plot depois salvaremos o que fizemos de forma simples em um arquivo. Faremos isto apenas no primeiro e no último teste por questões de praticidade."
   ]
  },
  {
   "cell_type": "code",
   "execution_count": 2,
   "metadata": {},
   "outputs": [],
   "source": [
    "import json\n",
    "f = open(\"saved_accuracy_test1.json\", \"w\")\n",
    "json.dump(test_accuracy, f)\n",
    "f.close()"
   ]
  },
  {
   "cell_type": "markdown",
   "metadata": {},
   "source": [
    "Para pegar uma base apenas fizemos um teste rápido com uma rede totalmente conectada com uma camada oculta de 100 neurônios para termos uma base do quanto o programa irá melhorar. Agora iremos inserir uma camada convolucional:"
   ]
  },
  {
   "cell_type": "code",
   "execution_count": 3,
   "metadata": {},
   "outputs": [
    {
     "name": "stdout",
     "output_type": "stream",
     "text": [
      "Finished training network after 25 epochs.\n",
      "Best test accuracy of 98.65% obtained at iteration 124999\n",
      "Best validation accuracy of 98.59% obtained at iteration 99999\n"
     ]
    }
   ],
   "source": [
    "net = Network([\n",
    "        ConvPoolLayer(input_shape=(mini_batch_size, 1, 28, 28), \n",
    "                      filter_shape=(20, 1, 5, 5), \n",
    "                      poolsize=(2, 2)),\n",
    "        FullyConnectedLayer(n_in=20*12*12, n_out=100),\n",
    "        SoftmaxLayer(n_in=100, n_out=10)], mini_batch_size)\n",
    "net.SGD(training_data, 5, mini_batch_size, 0.1, validation_data, test_data)"
   ]
  },
  {
   "cell_type": "markdown",
   "metadata": {},
   "source": [
    "Testando agora com mais uma camada convolucional:"
   ]
  },
  {
   "cell_type": "code",
   "execution_count": 4,
   "metadata": {},
   "outputs": [
    {
     "name": "stdout",
     "output_type": "stream",
     "text": [
      "Finished training network after 34 epochs.\n",
      "Best test accuracy of 99.05% obtained at iteration 154999\n",
      "Best validation accuracy of 98.97% obtained at iteration 144999\n"
     ]
    }
   ],
   "source": [
    "net = Network([\n",
    "        ConvPoolLayer(input_shape=(mini_batch_size, 1, 28, 28), \n",
    "                      filter_shape=(20, 1, 5, 5), \n",
    "                      poolsize=(2, 2)),\n",
    "        ConvPoolLayer(image_shape=(mini_batch_size, 20, 12, 12), \n",
    "                      filter_shape=(40, 20, 5, 5), \n",
    "                      poolsize=(2, 2)),\n",
    "        FullyConnectedLayer(n_in=40*4*4, n_out=100),\n",
    "        SoftmaxLayer(n_in=100, n_out=10)], mini_batch_size)\n",
    "net.SGD(training_data, 5, mini_batch_size, 0.1, validation_data, test_data)"
   ]
  },
  {
   "cell_type": "markdown",
   "metadata": {},
   "source": [
    "Agora tentaremos obter uma melhora outra vez com $\\eta = 0.03$, com regularização L2 ($\\lambda = 0.1$) e mudando a função de ativação das unidades para a ReLU (do inglês *Rectified Linear Unit*)."
   ]
  },
  {
   "cell_type": "code",
   "execution_count": 5,
   "metadata": {},
   "outputs": [
    {
     "name": "stdout",
     "output_type": "stream",
     "text": [
      "Finished training network after 25 epochs.\n",
      "Best test accuracy of 98.92% obtained at iteration 99999\n",
      "Best validation accuracy of 99.01% obtained at iteration 99999\n"
     ]
    }
   ],
   "source": [
    "from network3 import ReLU\n",
    "net = Network([\n",
    "        ConvPoolLayer(input_shape=(mini_batch_size, 1, 28, 28), \n",
    "                      filter_shape=(20, 1, 5, 5), \n",
    "                      poolsize=(2, 2), \n",
    "                      activation_fn=ReLU),\n",
    "        ConvPoolLayer(input_shape=(mini_batch_size, 20, 12, 12), \n",
    "                      filter_shape=(40, 20, 5, 5), \n",
    "                      poolsize=(2, 2), \n",
    "                      activation_fn=ReLU),\n",
    "        FullyConnectedLayer(n_in=40*4*4, n_out=100, activation_fn=ReLU),\n",
    "        SoftmaxLayer(n_in=100, n_out=10)], mini_batch_size)\n",
    "net.SGD(training_data, 5, mini_batch_size, 0.03, validation_data, test_data, lmbda=0.1)"
   ]
  },
  {
   "cell_type": "markdown",
   "metadata": {},
   "source": [
    "Obtivemos uma pequena melhora na acurácia no conjunto de validação mas não na do conjunto de teste, mas ainda assim demoramos menos épocas no treinamento e faremos outro teste, dessa vez usando um conjunto de treinamento expandido tal como o roteiro proposto:"
   ]
  },
  {
   "cell_type": "code",
   "execution_count": 6,
   "metadata": {},
   "outputs": [
    {
     "name": "stdout",
     "output_type": "stream",
     "text": [
      "Finished training network after 18 epochs.\n",
      "Best test accuracy of 99.25% obtained at iteration 324999\n",
      "Best validation accuracy of 99.30% obtained at iteration 324999\n"
     ]
    }
   ],
   "source": [
    "expanded_training_data, _, _ = network3.load_data_shared(\n",
    "        \"/home/pedro/mnist_expanded.pkl.gz\") # My particular path to the file\n",
    "net = Network([\n",
    "        ConvPoolLayer(input_shape=(mini_batch_size, 1, 28, 28), \n",
    "                      filter_shape=(20, 1, 5, 5), \n",
    "                      poolsize=(2, 2), \n",
    "                      activation_fn=ReLU),\n",
    "        ConvPoolLayer(input_shape=(mini_batch_size, 20, 12, 12), \n",
    "                      filter_shape=(40, 20, 5, 5), \n",
    "                      poolsize=(2, 2), \n",
    "                      activation_fn=ReLU),\n",
    "        FullyConnectedLayer(n_in=40*4*4, n_out=100, activation_fn=ReLU),\n",
    "        SoftmaxLayer(n_in=100, n_out=10)], mini_batch_size)\n",
    "net.SGD(expanded_training_data, 5, mini_batch_size, 0.03, validation_data, test_data, lmbda=0.1)"
   ]
  },
  {
   "cell_type": "markdown",
   "metadata": {},
   "source": [
    "Mais uma vez obtivemos melhores resultados, apesar de ter aumentado o tempo do processo de aprendizado devido ao conjunto de treinamento aumentado. Agora faremos o teste usando mais uma camada completamente conectada com 100 neurônios."
   ]
  },
  {
   "cell_type": "code",
   "execution_count": 7,
   "metadata": {},
   "outputs": [
    {
     "name": "stdout",
     "output_type": "stream",
     "text": [
      "Finished training network after 16 epochs.\n",
      "Best test accuracy of 99.23% obtained at iteration 374999\n",
      "Best validation accuracy of 99.32% obtained at iteration 274999\n"
     ]
    }
   ],
   "source": [
    "net = Network([\n",
    "        ConvPoolLayer(input_shape=(mini_batch_size, 1, 28, 28), \n",
    "                      filter_shape=(20, 1, 5, 5), \n",
    "                      poolsize=(2, 2), \n",
    "                      activation_fn=ReLU),\n",
    "        ConvPoolLayer(input_shape=(mini_batch_size, 20, 12, 12), \n",
    "                      filter_shape=(40, 20, 5, 5), \n",
    "                      poolsize=(2, 2), \n",
    "                      activation_fn=ReLU),\n",
    "        FullyConnectedLayer(n_in=40*4*4, n_out=100, activation_fn=ReLU),\n",
    "        FullyConnectedLayer(n_in=100, n_out=100, activation_fn=ReLU),\n",
    "        SoftmaxLayer(n_in=100, n_out=10)], mini_batch_size)\n",
    "net.SGD(expanded_training_data, 5, mini_batch_size, 0.03, validation_data, test_data, lmbda=0.1)"
   ]
  },
  {
   "cell_type": "markdown",
   "metadata": {},
   "source": [
    "Agora, como último teste teremos o aumento das camadas intermediárias para 1000 neurônios e implementaremos a técnica *Dropout*."
   ]
  },
  {
   "cell_type": "code",
   "execution_count": 8,
   "metadata": {},
   "outputs": [
    {
     "name": "stdout",
     "output_type": "stream",
     "text": [
      "Finished training network after 17 epochs.\n",
      "Best test accuracy of 99.57% obtained at iteration 349999\n",
      "Best validation accuracy of 99.52% obtained at iteration 299999\n"
     ]
    }
   ],
   "source": [
    "net = Network([\n",
    "        ConvPoolLayer(input_shape=(mini_batch_size, 1, 28, 28), \n",
    "                      filter_shape=(20, 1, 5, 5), \n",
    "                      poolsize=(2, 2), \n",
    "                      activation_fn=ReLU),\n",
    "        ConvPoolLayer(input_shape=(mini_batch_size, 20, 12, 12), \n",
    "                      filter_shape=(40, 20, 5, 5), \n",
    "                      poolsize=(2, 2), \n",
    "                      activation_fn=ReLU),\n",
    "        FullyConnectedLayer(\n",
    "            n_in=40*4*4, n_out=1000, activation_fn=ReLU, p_dropout=0.5),\n",
    "        FullyConnectedLayer(\n",
    "            n_in=1000, n_out=1000, activation_fn=ReLU, p_dropout=0.5),\n",
    "        SoftmaxLayer(n_in=1000, n_out=10, p_dropout=0.5)], \n",
    "        mini_batch_size)\n",
    "test_accuracy, test_acc_by_class = net.SGD(expanded_training_data, 5, mini_batch_size, 0.03, \n",
    "                                            validation_data, test_data, monitor_test=True)"
   ]
  },
  {
   "cell_type": "markdown",
   "metadata": {},
   "source": [
    "Finalmente, salvaremos os resultados e plotaremos um gráfico comparando a acurácia geral entre o primeiro e último experimento, além de plotar um gráfico mostrando a acurácia por classe, de maneira análoga ao mini-projeto anterior, inclusive usando praticamente os mesmos códigos."
   ]
  },
  {
   "cell_type": "code",
   "execution_count": 9,
   "metadata": {},
   "outputs": [],
   "source": [
    "test_accuracy = list(test_accuracy)\n",
    "test_acc_by_class = [list(a) for a in test_acc_by_class]\n",
    "\n",
    "f = open(\"saved_accuracy_test2.json\", \"w\")\n",
    "json.dump(test_accuracy, f)\n",
    "f.close()\n",
    "# Saving the accuracies by class\n",
    "f = open(\"saved_acc_by_class_test2.json\", \"w\")\n",
    "json.dump(test_acc_by_class, f)\n",
    "f.close()"
   ]
  },
  {
   "cell_type": "code",
   "execution_count": 10,
   "metadata": {},
   "outputs": [
    {
     "data": {
      "image/png": "[encoded data removed]",
      "text/plain": [
       "<Figure size 432x288 with 1 Axes>"
      ]
     },
     "metadata": {},
     "output_type": "display_data"
    }
   ],
   "source": [
    "from matplotlib_for_total_acc import plot\n",
    "\n",
    "f = open(\"saved_accuracy_test1.json\", \"r\")\n",
    "data_test1 = json.load(f)\n",
    "f.close()\n",
    "\n",
    "accuracy = []\n",
    "# In this part we're slicing one of the lists so they can be on the same plot\n",
    "if (len(data_test1) > len(test_accuracy)):\n",
    "    accuracy = [data_test1[:len(test_accuracy)]]\n",
    "    accuracy.append(test_accuracy)\n",
    "    plot(len(accuracy), len(accuracy[0]), accuracy, [('MLP','#FFA933'), ('CNN + MLP','#2A6EA6')])\n",
    "else:\n",
    "    accuracy = [test_accuracy[:len(data_test1)]]\n",
    "    accuracy.append(data_test1)\n",
    "    plot(len(accuracy), len(accuracy[0]), accuracy, [('CNN + MLP','#2A6EA6'), ('MLP','#FFA933')])"
   ]
  },
  {
   "cell_type": "code",
   "execution_count": 11,
   "metadata": {},
   "outputs": [
    {
     "data": {
      "image/png": "[encoded data removed]",
      "text/plain": [
       "<Figure size 720x360 with 11 Axes>"
      ]
     },
     "metadata": {},
     "output_type": "display_data"
    }
   ],
   "source": [
    "%matplotlib inline\n",
    "\n",
    "from matplotlib_for_acc_by_class import plot\n",
    "plot(10, len(test_accuracy), test_acc_by_class)"
   ]
  },
  {
   "cell_type": "markdown",
   "metadata": {},
   "source": [
    "## Considerações Finais"
   ]
  },
  {
   "cell_type": "markdown",
   "metadata": {},
   "source": [
    "Plotando a acuária por classe e analisando os gráficos, principalmente o da comparação entre a acurácia geral da rede convolucional final com a rede MLP inicial, percebemos claramente que há melhoramento significativo com a rede mista (CNN + MLP). A última rede foi executada de maneira muito lenta no computador disponível para testes devido à falta de GPU adequada para processamento compartilhado dos dados, então optou-se por mostrar apenas os resultados finais de cada rede."
   ]
  }
 ],
 "metadata": {
  "kernelspec": {
   "display_name": "Python 3",
   "language": "python",
   "name": "python3"
  },
  "language_info": {
   "codemirror_mode": {
    "name": "ipython",
    "version": 3
   },
   "file_extension": ".py",
   "mimetype": "text/x-python",
   "name": "python",
   "nbconvert_exporter": "python",
   "pygments_lexer": "ipython3",
   "version": "3.6.8"
  }
 },
 "nbformat": 4,
 "nbformat_minor": 2
}
